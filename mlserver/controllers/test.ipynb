{
 "cells": [
  {
   "cell_type": "code",
   "execution_count": 1,
   "metadata": {},
   "outputs": [],
   "source": [
    "import tensorflow as tf\n",
    "import numpy as np\n",
    "import matplotlib.pyplot as plt\n",
    "\n",
    "# Load the trained model from the SavedModel format\n",
    "model = tf.keras.models.load_model('models_opti/unet_saved_model', custom_objects={'MeanIoU': tf.keras.metrics.MeanIoU})\n"
   ]
  },
  {
   "cell_type": "code",
   "execution_count": 10,
   "metadata": {},
   "outputs": [],
   "source": [
    "\n",
    "# Function to preprocess the custom image\n",
    "def preprocess_image(image_path, image_size=(256, 256)):\n",
    "    \"\"\"\n",
    "    Preprocesses the image for prediction.\n",
    "    - Resizes the image to the specified dimensions.\n",
    "    - Normalizes pixel values to the range [0, 1].\n",
    "    - Adds a batch dimension.\n",
    "    \"\"\"\n",
    "    image = tf.io.read_file(image_path)\n",
    "    image = tf.image.decode_jpeg(image, channels=3)\n",
    "    image = tf.image.resize(image, image_size)\n",
    "    image = image / 255.0  # Normalize to [0, 1]\n",
    "    return np.expand_dims(image, axis=0)  # Add batch dimension\n",
    "\n",
    "# Function to preprocess the predicted mask for display\n",
    "def process_mask(mask, threshold=0.7):\n",
    "    \"\"\"\n",
    "    Processes the predicted mask.\n",
    "    - Applies a threshold to binarize the mask.\n",
    "    - Removes the batch dimension for display purposes.\n",
    "    \"\"\"\n",
    "    mask = (mask > threshold).astype(np.uint8)  # Threshold the mask\n",
    "    return mask.squeeze()  # Remove the batch dimension\n",
    "\n",
    "\n"
   ]
  },
  {
   "cell_type": "code",
   "execution_count": 13,
   "metadata": {},
   "outputs": [
    {
     "name": "stdout",
     "output_type": "stream",
     "text": [
      "1/1 [==============================] - 0s 22ms/step\n",
      "No damage detected.\n"
     ]
    }
   ],
   "source": [
    "# custom_image_path = 'seatSeverityData/train/images/8.jpg'  # Replace with your image path\n",
    "custom_image_path = 'image3.png'  # Replace with your image path\n",
    "input_image = preprocess_image(custom_image_path)\n",
    "\n",
    "# Predict the mask using the model\n",
    "predicted_mask = model.predict(input_image)\n",
    "\n",
    "# Process the mask for evaluation\n",
    "display_mask = process_mask(predicted_mask)\n",
    "\n",
    "# Check if damage is detected\n",
    "if display_mask.max() == 0:  # No pixels exceed the threshold\n",
    "    print(\"No damage detected.\")\n",
    "else:\n",
    "    # Display the input image and predicted mask\n",
    "    plt.figure(figsize=(10, 5))\n",
    "\n",
    "    # Original Image\n",
    "    plt.subplot(1, 2, 1)\n",
    "    plt.imshow(input_image[0])  # Remove batch dimension\n",
    "    plt.title('Original Image')\n",
    "    plt.axis('off')\n",
    "\n",
    "    # Predicted Mask\n",
    "    plt.subplot(1, 2, 2)\n",
    "    plt.imshow(display_mask, cmap='gray')\n",
    "    plt.title('Predicted Mask')\n",
    "    plt.axis('off')\n",
    "\n",
    "    plt.show()"
   ]
  },
  {
   "cell_type": "code",
   "execution_count": null,
   "metadata": {},
   "outputs": [],
   "source": []
  }
 ],
 "metadata": {
  "kernelspec": {
   "display_name": "myCuda",
   "language": "python",
   "name": "python3"
  },
  "language_info": {
   "codemirror_mode": {
    "name": "ipython",
    "version": 3
   },
   "file_extension": ".py",
   "mimetype": "text/x-python",
   "name": "python",
   "nbconvert_exporter": "python",
   "pygments_lexer": "ipython3",
   "version": "3.9.0"
  }
 },
 "nbformat": 4,
 "nbformat_minor": 2
}

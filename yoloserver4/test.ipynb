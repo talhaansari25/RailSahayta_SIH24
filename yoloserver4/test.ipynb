{
 "cells": [
  {
   "cell_type": "code",
   "execution_count": 1,
   "metadata": {},
   "outputs": [
    {
     "name": "stderr",
     "output_type": "stream",
     "text": [
      "Downloading: \"https://github.com/ultralytics/yolov5/zipball/master\" to C:\\Users\\shash/.cache\\torch\\hub\\master.zip\n",
      "YOLOv5  2024-12-9 Python-3.9.0 torch-2.5.1+cpu CPU\n",
      "\n",
      "Fusing layers... \n",
      "Model summary: 157 layers, 7045186 parameters, 0 gradients, 15.9 GFLOPs\n",
      "Adding AutoShape... \n"
     ]
    }
   ],
   "source": [
    "import torch\n",
    "from pathlib import Path\n",
    "import cv2\n",
    "\n",
    "# Load the YOLOv5 model\n",
    "model_path = 'yolov5/runs/train/exp20/weights/best.pt'  # Replace with your model path\n",
    "model = torch.hub.load('ultralytics/yolov5', 'custom', path=model_path, force_reload=True)\n",
    "\n",
    "\n"
   ]
  },
  {
   "cell_type": "code",
   "execution_count": 2,
   "metadata": {},
   "outputs": [],
   "source": [
    "# Directory to save output images\n",
    "output_dir = 'outputs'  # Replace with your output directory\n",
    "Path(output_dir).mkdir(parents=True, exist_ok=True)  # Ensure the directory exists\n"
   ]
  },
  {
   "cell_type": "code",
   "execution_count": 3,
   "metadata": {},
   "outputs": [
    {
     "name": "stdout",
     "output_type": "stream",
     "text": [
      "Processing image.png...\n"
     ]
    },
    {
     "name": "stderr",
     "output_type": "stream",
     "text": [
      "C:\\Users\\shash/.cache\\torch\\hub\\ultralytics_yolov5_master\\models\\common.py:892: FutureWarning: `torch.cuda.amp.autocast(args...)` is deprecated. Please use `torch.amp.autocast('cuda', args...)` instead.\n",
      "  with amp.autocast(autocast):\n"
     ]
    },
    {
     "name": "stdout",
     "output_type": "stream",
     "text": [
      "Saved output to outputs\\image_17.jpg\n",
      "Processing completed.\n"
     ]
    }
   ],
   "source": [
    "\n",
    "\n",
    "# Input image path (one image at a time)\n",
    "image_path = \"image.png\"  # Replace with the actual path of the image\n",
    "image_count = len(list(Path(output_dir).glob(\"*.jpg\"))) + 1  # Count existing images in output directory\n",
    "\n",
    "# Perform inference\n",
    "print(f\"Processing {image_path}...\")\n",
    "\n",
    "results = model(str(image_path))  # Use file path directly\n",
    "\n",
    "# Extract the image with predictions\n",
    "predicted_image = results.render()[0]  # Rendered image as a numpy array\n",
    "\n",
    "# Save the image with a new name in the same folder\n",
    "output_image_path = Path(output_dir) / f\"image_{image_count}.jpg\"\n",
    "cv2.imwrite(str(output_image_path), predicted_image)  # Save using OpenCV\n",
    "\n",
    "print(f\"Saved output to {output_image_path}\")\n",
    "print(\"Processing completed.\")\n"
   ]
  }
 ],
 "metadata": {
  "kernelspec": {
   "display_name": "Python 3",
   "language": "python",
   "name": "python3"
  },
  "language_info": {
   "codemirror_mode": {
    "name": "ipython",
    "version": 3
   },
   "file_extension": ".py",
   "mimetype": "text/x-python",
   "name": "python",
   "nbconvert_exporter": "python",
   "pygments_lexer": "ipython3",
   "version": "3.12.2"
  }
 },
 "nbformat": 4,
 "nbformat_minor": 2
}
